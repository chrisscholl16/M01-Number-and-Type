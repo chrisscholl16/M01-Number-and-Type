{
 "cells": [
  {
   "cell_type": "code",
   "execution_count": 23,
   "id": "a85411b6",
   "metadata": {},
   "outputs": [
    {
     "name": "stdout",
     "output_type": "stream",
     "text": [
      "Please Enter Year: 2022\n",
      "Please Enter Make: Toyota\n",
      "Please Enter Model: Corolla\n",
      "Please Enter Number of Doors: 4\n",
      "Please Enter Type of Roof: Sun roof\n",
      "Entered details are: \n",
      "Vehicle Type is: car\n",
      "Year: 2022\n",
      "Make: Toyota\n",
      "Model: Corolla\n",
      "Number of Doors: 4\n",
      "Type of roof: Sun roof\n"
     ]
    }
   ],
   "source": [
    "class Vehicle:\n",
    "    def __init__(self,vehicle_type):\n",
    "        self.vehicle_type = vehicle_type\n",
    "\n",
    "class Automobile(Vehicle):\n",
    "    def __init__(self, vehicle_type, year, make, model, doors, roof):\n",
    "        Vehicle.__init__(self,vehicle_type)\n",
    "        self.year = year\n",
    "        self.make = make\n",
    "        self.model = model\n",
    "        self.doors = doors\n",
    "        self.roof = roof\n",
    "    \n",
    "    def __str__(self):\n",
    "        return \"Vehicle Type is: \" + self.vehicle_type + \"\\nYear: \" + self.year + \"\\nMake: \" + self.make + \"\\nModel: \" + self.model + \"\\nNumber of Doors: \" + self.doors + \"\\nType of roof: \" + self.roof\n",
    "    \n",
    "if __name__ == \"__main__\":\n",
    "    year = input(\"Please Enter Year: \")\n",
    "    make = input(\"Please Enter Make: \")\n",
    "    model = input(\"Please Enter Model: \")\n",
    "    doors = input(\"Please Enter Number of Doors: \")\n",
    "    roof = input(\"Please Enter Type of Roof: \")\n",
    "    \n",
    "carObj = Automobile(\"car\", year, make, model, doors, roof)    \n",
    "\n",
    "print(\"Entered details are: \")\n",
    "print(carObj)"
   ]
  },
  {
   "cell_type": "code",
   "execution_count": null,
   "id": "080ae98a",
   "metadata": {},
   "outputs": [],
   "source": []
  }
 ],
 "metadata": {
  "kernelspec": {
   "display_name": "Python 3 (ipykernel)",
   "language": "python",
   "name": "python3"
  },
  "language_info": {
   "codemirror_mode": {
    "name": "ipython",
    "version": 3
   },
   "file_extension": ".py",
   "mimetype": "text/x-python",
   "name": "python",
   "nbconvert_exporter": "python",
   "pygments_lexer": "ipython3",
   "version": "3.10.9"
  }
 },
 "nbformat": 4,
 "nbformat_minor": 5
}
