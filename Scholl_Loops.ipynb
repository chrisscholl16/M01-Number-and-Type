{
 "cells": [
  {
   "cell_type": "code",
   "execution_count": 2,
   "id": "fb337664",
   "metadata": {},
   "outputs": [
    {
     "name": "stdout",
     "output_type": "stream",
     "text": [
      "Too Low\n"
     ]
    }
   ],
   "source": [
    "secret = 7\n",
    "guess = 3\n",
    "\n",
    "if guess == secret:\n",
    "    print(\"Just Right\")\n",
    "elif guess < secret:\n",
    "    print(\"Too Low\")\n",
    "else:\n",
    "    print(\"Too High\")"
   ]
  },
  {
   "cell_type": "code",
   "execution_count": 5,
   "id": "f579d81e",
   "metadata": {},
   "outputs": [
    {
     "name": "stdout",
     "output_type": "stream",
     "text": [
      "It's a cherry\n"
     ]
    }
   ],
   "source": [
    "small = True\n",
    "green = False\n",
    "\n",
    "if small:\n",
    "    if green:\n",
    "        print(\"It's a pea\")\n",
    "    else:\n",
    "        print(\"It's a cherry\")\n",
    "else:\n",
    "    if green:\n",
    "        print(\"It's a watermelon\")\n",
    "    else:\n",
    "        print(\"It's a pumpkin\")"
   ]
  },
  {
   "cell_type": "code",
   "execution_count": 6,
   "id": "36fb6a41",
   "metadata": {},
   "outputs": [
    {
     "name": "stdout",
     "output_type": "stream",
     "text": [
      "It's a pea\n"
     ]
    }
   ],
   "source": [
    "small = True\n",
    "green = True\n",
    "\n",
    "if small:\n",
    "    if green:\n",
    "        print(\"It's a pea\")\n",
    "    else:\n",
    "        print(\"It's a cherry\")\n",
    "else:\n",
    "    if green:\n",
    "        print(\"It's a watermelon\")\n",
    "    else:\n",
    "        print(\"It's a pumpkin\")"
   ]
  },
  {
   "cell_type": "code",
   "execution_count": 7,
   "id": "23c73911",
   "metadata": {},
   "outputs": [
    {
     "name": "stdout",
     "output_type": "stream",
     "text": [
      "It's a watermelon\n"
     ]
    }
   ],
   "source": [
    "small = False\n",
    "green = True\n",
    "\n",
    "if small:\n",
    "    if green:\n",
    "        print(\"It's a pea\")\n",
    "    else:\n",
    "        print(\"It's a cherry\")\n",
    "else:\n",
    "    if green:\n",
    "        print(\"It's a watermelon\")\n",
    "    else:\n",
    "        print(\"It's a pumpkin\")"
   ]
  },
  {
   "cell_type": "code",
   "execution_count": 8,
   "id": "c76e1999",
   "metadata": {},
   "outputs": [
    {
     "name": "stdout",
     "output_type": "stream",
     "text": [
      "It's a pumpkin\n"
     ]
    }
   ],
   "source": [
    "small = False\n",
    "green = False\n",
    "\n",
    "if small:\n",
    "    if green:\n",
    "        print(\"It's a pea\")\n",
    "    else:\n",
    "        print(\"It's a cherry\")\n",
    "else:\n",
    "    if green:\n",
    "        print(\"It's a watermelon\")\n",
    "    else:\n",
    "        print(\"It's a pumpkin\")"
   ]
  },
  {
   "cell_type": "code",
   "execution_count": 11,
   "id": "ea987423",
   "metadata": {},
   "outputs": [
    {
     "name": "stdout",
     "output_type": "stream",
     "text": [
      "3\n",
      "2\n",
      "1\n",
      "0\n"
     ]
    }
   ],
   "source": [
    "my_list = [3,2,1,0]\n",
    "for a in my_list:\n",
    "    print(a)"
   ]
  },
  {
   "cell_type": "code",
   "execution_count": 16,
   "id": "884183ce",
   "metadata": {},
   "outputs": [
    {
     "name": "stdout",
     "output_type": "stream",
     "text": [
      "Too Low\n",
      "Too Low\n",
      "Too Low\n",
      "Too Low\n",
      "Too Low\n",
      "Too Low\n",
      "Found It!\n"
     ]
    }
   ],
   "source": [
    "guess_me = 7\n",
    "number = 1\n",
    "\n",
    "while True:\n",
    "    if number < guess_me:\n",
    "        print(\"Too Low\")\n",
    "    elif number == guess_me:\n",
    "        print(\"Found It!\")\n",
    "        break\n",
    "    else:\n",
    "        print(\"OOPS\")\n",
    "        break\n",
    "    number += 1"
   ]
  },
  {
   "cell_type": "code",
   "execution_count": 15,
   "id": "fa447fbd",
   "metadata": {},
   "outputs": [
    {
     "name": "stdout",
     "output_type": "stream",
     "text": [
      "Too Low\n",
      "Too Low\n",
      "Too Low\n",
      "Too Low\n",
      "Too Low\n",
      "Found It!\n"
     ]
    }
   ],
   "source": [
    "guess_me = 5\n",
    "number = [10]\n",
    "\n",
    "for number in range(10):\n",
    "    if number < guess_me:\n",
    "        print(\"Too Low\")\n",
    "        number +=1\n",
    "    elif number == guess_me:\n",
    "        print(\"Found It!\")\n",
    "        break\n",
    "    else:\n",
    "        print(\"OOPS\")\n",
    "        exit"
   ]
  },
  {
   "cell_type": "code",
   "execution_count": null,
   "id": "fa01ce1d",
   "metadata": {},
   "outputs": [],
   "source": []
  }
 ],
 "metadata": {
  "kernelspec": {
   "display_name": "Python 3 (ipykernel)",
   "language": "python",
   "name": "python3"
  },
  "language_info": {
   "codemirror_mode": {
    "name": "ipython",
    "version": 3
   },
   "file_extension": ".py",
   "mimetype": "text/x-python",
   "name": "python",
   "nbconvert_exporter": "python",
   "pygments_lexer": "ipython3",
   "version": "3.10.9"
  }
 },
 "nbformat": 4,
 "nbformat_minor": 5
}
